{
 "cells": [
  {
   "cell_type": "markdown",
   "metadata": {},
   "source": [
    "# VacationPy\n",
    "----\n",
    "\n",
    "#### Note\n",
    "* Keep an eye on your API usage. Use https://developers.google.com/maps/reporting/gmp-reporting as reference for how to monitor your usage and billing.\n",
    "\n",
    "* Instructions have been included for each segment. You do not have to follow them exactly, but they are included to help you think through the steps."
   ]
  },
  {
   "cell_type": "code",
   "execution_count": 180,
   "metadata": {},
   "outputs": [],
   "source": [
    "# Dependencies and Setup\n",
    "import matplotlib.pyplot as plt\n",
    "import pandas as pd\n",
    "import numpy as np\n",
    "import requests\n",
    "import json\n",
    "import gmaps\n",
    "import os\n",
    "\n",
    "# Import API key\n",
    "from api_keys import g_key"
   ]
  },
  {
   "cell_type": "markdown",
   "metadata": {},
   "source": [
    "### Store Part I results into DataFrame\n",
    "* Load the csv exported in Part I to a DataFrame"
   ]
  },
  {
   "cell_type": "code",
   "execution_count": 181,
   "metadata": {},
   "outputs": [
    {
     "data": {
      "text/html": [
       "<div>\n",
       "<style scoped>\n",
       "    .dataframe tbody tr th:only-of-type {\n",
       "        vertical-align: middle;\n",
       "    }\n",
       "\n",
       "    .dataframe tbody tr th {\n",
       "        vertical-align: top;\n",
       "    }\n",
       "\n",
       "    .dataframe thead th {\n",
       "        text-align: right;\n",
       "    }\n",
       "</style>\n",
       "<table border=\"1\" class=\"dataframe\">\n",
       "  <thead>\n",
       "    <tr style=\"text-align: right;\">\n",
       "      <th></th>\n",
       "      <th>City</th>\n",
       "      <th>Lat</th>\n",
       "      <th>Lng</th>\n",
       "      <th>Max Temp</th>\n",
       "      <th>Humidity</th>\n",
       "      <th>Cloudiness</th>\n",
       "      <th>Wind Speed</th>\n",
       "      <th>Country</th>\n",
       "      <th>Date</th>\n",
       "    </tr>\n",
       "  </thead>\n",
       "  <tbody>\n",
       "    <tr>\n",
       "      <th>0</th>\n",
       "      <td>torbay</td>\n",
       "      <td>47.6666</td>\n",
       "      <td>-52.7314</td>\n",
       "      <td>15.16</td>\n",
       "      <td>97</td>\n",
       "      <td>100</td>\n",
       "      <td>5.66</td>\n",
       "      <td>CA</td>\n",
       "      <td>1663021246</td>\n",
       "    </tr>\n",
       "    <tr>\n",
       "      <th>1</th>\n",
       "      <td>barrow</td>\n",
       "      <td>71.2906</td>\n",
       "      <td>-156.7887</td>\n",
       "      <td>3.01</td>\n",
       "      <td>93</td>\n",
       "      <td>100</td>\n",
       "      <td>8.75</td>\n",
       "      <td>US</td>\n",
       "      <td>1663021246</td>\n",
       "    </tr>\n",
       "    <tr>\n",
       "      <th>2</th>\n",
       "      <td>grand gaube</td>\n",
       "      <td>-20.0064</td>\n",
       "      <td>57.6608</td>\n",
       "      <td>20.77</td>\n",
       "      <td>70</td>\n",
       "      <td>66</td>\n",
       "      <td>1.34</td>\n",
       "      <td>MU</td>\n",
       "      <td>1663021246</td>\n",
       "    </tr>\n",
       "    <tr>\n",
       "      <th>3</th>\n",
       "      <td>beloha</td>\n",
       "      <td>-25.1667</td>\n",
       "      <td>45.0500</td>\n",
       "      <td>17.51</td>\n",
       "      <td>97</td>\n",
       "      <td>7</td>\n",
       "      <td>1.72</td>\n",
       "      <td>MG</td>\n",
       "      <td>1663021247</td>\n",
       "    </tr>\n",
       "    <tr>\n",
       "      <th>4</th>\n",
       "      <td>jamestown</td>\n",
       "      <td>42.0970</td>\n",
       "      <td>-79.2353</td>\n",
       "      <td>20.85</td>\n",
       "      <td>71</td>\n",
       "      <td>20</td>\n",
       "      <td>3.60</td>\n",
       "      <td>US</td>\n",
       "      <td>1663021247</td>\n",
       "    </tr>\n",
       "  </tbody>\n",
       "</table>\n",
       "</div>"
      ],
      "text/plain": [
       "          City      Lat       Lng  Max Temp  Humidity  Cloudiness  Wind Speed  \\\n",
       "0       torbay  47.6666  -52.7314     15.16        97         100        5.66   \n",
       "1       barrow  71.2906 -156.7887      3.01        93         100        8.75   \n",
       "2  grand gaube -20.0064   57.6608     20.77        70          66        1.34   \n",
       "3       beloha -25.1667   45.0500     17.51        97           7        1.72   \n",
       "4    jamestown  42.0970  -79.2353     20.85        71          20        3.60   \n",
       "\n",
       "  Country        Date  \n",
       "0      CA  1663021246  \n",
       "1      US  1663021246  \n",
       "2      MU  1663021246  \n",
       "3      MG  1663021247  \n",
       "4      US  1663021247  "
      ]
     },
     "execution_count": 181,
     "metadata": {},
     "output_type": "execute_result"
    }
   ],
   "source": [
    "city_data=pd.read_csv(\"cityweather_Output.csv\",index_col=False)\n",
    "city_data.head()\n"
   ]
  },
  {
   "cell_type": "markdown",
   "metadata": {},
   "source": [
    "### Humidity Heatmap\n",
    "* Configure gmaps.\n",
    "* Use the Lat and Lng as locations and Humidity as the weight.\n",
    "* Add Heatmap layer to map."
   ]
  },
  {
   "cell_type": "code",
   "execution_count": 182,
   "metadata": {},
   "outputs": [],
   "source": [
    "locations=city_data[[\"Lat\",\"Lng\"]].astype(float)\n"
   ]
  },
  {
   "cell_type": "code",
   "execution_count": 183,
   "metadata": {},
   "outputs": [],
   "source": [
    "gmaps.configure(api_key=g_key)"
   ]
  },
  {
   "cell_type": "code",
   "execution_count": 184,
   "metadata": {},
   "outputs": [
    {
     "data": {
      "application/vnd.jupyter.widget-view+json": {
       "model_id": "b0183ac8b3e543bfa3713c0096ec49bb",
       "version_major": 2,
       "version_minor": 0
      },
      "text/plain": [
       "Figure(layout=FigureLayout(height='420px'))"
      ]
     },
     "metadata": {},
     "output_type": "display_data"
    }
   ],
   "source": [
    "fig = gmaps.figure()\n",
    "\n",
    "heat_layer = gmaps.heatmap_layer(locations, weights=city_data[\"Humidity\"].astype(float), \n",
    "                                 dissipating=False, max_intensity=100,\n",
    "                                 point_radius = 6)\n",
    "\n",
    "fig.add_layer(heat_layer)\n",
    "\n",
    "fig"
   ]
  },
  {
   "cell_type": "markdown",
   "metadata": {},
   "source": [
    "### Create new DataFrame fitting weather criteria\n",
    "* Narrow down the cities to fit weather conditions.\n",
    "* Drop any rows will null values."
   ]
  },
  {
   "cell_type": "code",
   "execution_count": 185,
   "metadata": {},
   "outputs": [
    {
     "name": "stdout",
     "output_type": "stream",
     "text": [
      "<class 'pandas.core.frame.DataFrame'>\n",
      "RangeIndex: 555 entries, 0 to 554\n",
      "Data columns (total 9 columns):\n",
      " #   Column      Non-Null Count  Dtype  \n",
      "---  ------      --------------  -----  \n",
      " 0   City        555 non-null    object \n",
      " 1   Lat         555 non-null    float64\n",
      " 2   Lng         555 non-null    float64\n",
      " 3   Max Temp    555 non-null    float64\n",
      " 4   Humidity    555 non-null    int64  \n",
      " 5   Cloudiness  555 non-null    int64  \n",
      " 6   Wind Speed  555 non-null    float64\n",
      " 7   Country     553 non-null    object \n",
      " 8   Date        555 non-null    int64  \n",
      "dtypes: float64(4), int64(3), object(2)\n",
      "memory usage: 39.1+ KB\n"
     ]
    }
   ],
   "source": [
    "city_data.info()"
   ]
  },
  {
   "cell_type": "code",
   "execution_count": 186,
   "metadata": {},
   "outputs": [],
   "source": [
    "vacation_city=city_data.loc[(city_data[\"Max Temp\"]<27)&(city_data[\"Max Temp\"]>21)]"
   ]
  },
  {
   "cell_type": "code",
   "execution_count": 187,
   "metadata": {},
   "outputs": [
    {
     "data": {
      "text/html": [
       "<div>\n",
       "<style scoped>\n",
       "    .dataframe tbody tr th:only-of-type {\n",
       "        vertical-align: middle;\n",
       "    }\n",
       "\n",
       "    .dataframe tbody tr th {\n",
       "        vertical-align: top;\n",
       "    }\n",
       "\n",
       "    .dataframe thead th {\n",
       "        text-align: right;\n",
       "    }\n",
       "</style>\n",
       "<table border=\"1\" class=\"dataframe\">\n",
       "  <thead>\n",
       "    <tr style=\"text-align: right;\">\n",
       "      <th></th>\n",
       "      <th>City</th>\n",
       "      <th>Lat</th>\n",
       "      <th>Lng</th>\n",
       "      <th>Max Temp</th>\n",
       "      <th>Humidity</th>\n",
       "      <th>Cloudiness</th>\n",
       "      <th>Wind Speed</th>\n",
       "      <th>Country</th>\n",
       "      <th>Date</th>\n",
       "    </tr>\n",
       "  </thead>\n",
       "  <tbody>\n",
       "    <tr>\n",
       "      <th>151</th>\n",
       "      <td>gat</td>\n",
       "      <td>31.6100</td>\n",
       "      <td>34.7642</td>\n",
       "      <td>25.38</td>\n",
       "      <td>100</td>\n",
       "      <td>0</td>\n",
       "      <td>0.35</td>\n",
       "      <td>IL</td>\n",
       "      <td>1663021310</td>\n",
       "    </tr>\n",
       "    <tr>\n",
       "      <th>254</th>\n",
       "      <td>tucuman</td>\n",
       "      <td>-26.8241</td>\n",
       "      <td>-65.2226</td>\n",
       "      <td>22.00</td>\n",
       "      <td>17</td>\n",
       "      <td>0</td>\n",
       "      <td>2.57</td>\n",
       "      <td>AR</td>\n",
       "      <td>1663021343</td>\n",
       "    </tr>\n",
       "    <tr>\n",
       "      <th>346</th>\n",
       "      <td>gaeta</td>\n",
       "      <td>41.2183</td>\n",
       "      <td>13.5628</td>\n",
       "      <td>21.52</td>\n",
       "      <td>65</td>\n",
       "      <td>0</td>\n",
       "      <td>2.47</td>\n",
       "      <td>IT</td>\n",
       "      <td>1663021374</td>\n",
       "    </tr>\n",
       "    <tr>\n",
       "      <th>355</th>\n",
       "      <td>santiago del estero</td>\n",
       "      <td>-27.7951</td>\n",
       "      <td>-64.2615</td>\n",
       "      <td>22.23</td>\n",
       "      <td>17</td>\n",
       "      <td>0</td>\n",
       "      <td>2.91</td>\n",
       "      <td>AR</td>\n",
       "      <td>1663021377</td>\n",
       "    </tr>\n",
       "    <tr>\n",
       "      <th>518</th>\n",
       "      <td>tsumeb</td>\n",
       "      <td>-19.2333</td>\n",
       "      <td>17.7167</td>\n",
       "      <td>23.19</td>\n",
       "      <td>13</td>\n",
       "      <td>0</td>\n",
       "      <td>4.43</td>\n",
       "      <td>NaN</td>\n",
       "      <td>1663021203</td>\n",
       "    </tr>\n",
       "  </tbody>\n",
       "</table>\n",
       "</div>"
      ],
      "text/plain": [
       "                    City      Lat      Lng  Max Temp  Humidity  Cloudiness  \\\n",
       "151                  gat  31.6100  34.7642     25.38       100           0   \n",
       "254              tucuman -26.8241 -65.2226     22.00        17           0   \n",
       "346                gaeta  41.2183  13.5628     21.52        65           0   \n",
       "355  santiago del estero -27.7951 -64.2615     22.23        17           0   \n",
       "518               tsumeb -19.2333  17.7167     23.19        13           0   \n",
       "\n",
       "     Wind Speed Country        Date  \n",
       "151        0.35      IL  1663021310  \n",
       "254        2.57      AR  1663021343  \n",
       "346        2.47      IT  1663021374  \n",
       "355        2.91      AR  1663021377  \n",
       "518        4.43     NaN  1663021203  "
      ]
     },
     "execution_count": 187,
     "metadata": {},
     "output_type": "execute_result"
    }
   ],
   "source": [
    "vacation_city=city_data.loc[(city_data[\"Max Temp\"]<27) \n",
    "                           & (city_data[\"Max Temp\"]>21) \n",
    "                           & (city_data[\"Wind Speed\"] <4.5)\n",
    "                            & (city_data[\"Cloudiness\"]==0)]\n",
    "vacation_city.head()\n"
   ]
  },
  {
   "cell_type": "code",
   "execution_count": 188,
   "metadata": {},
   "outputs": [
    {
     "data": {
      "text/plain": [
       "(7, 9)"
      ]
     },
     "execution_count": 188,
     "metadata": {},
     "output_type": "execute_result"
    }
   ],
   "source": [
    "vacation_city.shape"
   ]
  },
  {
   "cell_type": "code",
   "execution_count": 189,
   "metadata": {},
   "outputs": [],
   "source": [
    "vacation_clean_df=vacation_city.dropna()"
   ]
  },
  {
   "cell_type": "code",
   "execution_count": 190,
   "metadata": {},
   "outputs": [
    {
     "data": {
      "text/plain": [
       "(6, 9)"
      ]
     },
     "execution_count": 190,
     "metadata": {},
     "output_type": "execute_result"
    }
   ],
   "source": [
    "vacation_clean_df.shape\n"
   ]
  },
  {
   "cell_type": "code",
   "execution_count": 191,
   "metadata": {},
   "outputs": [
    {
     "data": {
      "text/html": [
       "<div>\n",
       "<style scoped>\n",
       "    .dataframe tbody tr th:only-of-type {\n",
       "        vertical-align: middle;\n",
       "    }\n",
       "\n",
       "    .dataframe tbody tr th {\n",
       "        vertical-align: top;\n",
       "    }\n",
       "\n",
       "    .dataframe thead th {\n",
       "        text-align: right;\n",
       "    }\n",
       "</style>\n",
       "<table border=\"1\" class=\"dataframe\">\n",
       "  <thead>\n",
       "    <tr style=\"text-align: right;\">\n",
       "      <th></th>\n",
       "      <th>City</th>\n",
       "      <th>Lat</th>\n",
       "      <th>Lng</th>\n",
       "      <th>Max Temp</th>\n",
       "      <th>Humidity</th>\n",
       "      <th>Cloudiness</th>\n",
       "      <th>Wind Speed</th>\n",
       "      <th>Country</th>\n",
       "      <th>Date</th>\n",
       "    </tr>\n",
       "  </thead>\n",
       "  <tbody>\n",
       "    <tr>\n",
       "      <th>151</th>\n",
       "      <td>gat</td>\n",
       "      <td>31.6100</td>\n",
       "      <td>34.7642</td>\n",
       "      <td>25.38</td>\n",
       "      <td>100</td>\n",
       "      <td>0</td>\n",
       "      <td>0.35</td>\n",
       "      <td>IL</td>\n",
       "      <td>1663021310</td>\n",
       "    </tr>\n",
       "    <tr>\n",
       "      <th>254</th>\n",
       "      <td>tucuman</td>\n",
       "      <td>-26.8241</td>\n",
       "      <td>-65.2226</td>\n",
       "      <td>22.00</td>\n",
       "      <td>17</td>\n",
       "      <td>0</td>\n",
       "      <td>2.57</td>\n",
       "      <td>AR</td>\n",
       "      <td>1663021343</td>\n",
       "    </tr>\n",
       "    <tr>\n",
       "      <th>346</th>\n",
       "      <td>gaeta</td>\n",
       "      <td>41.2183</td>\n",
       "      <td>13.5628</td>\n",
       "      <td>21.52</td>\n",
       "      <td>65</td>\n",
       "      <td>0</td>\n",
       "      <td>2.47</td>\n",
       "      <td>IT</td>\n",
       "      <td>1663021374</td>\n",
       "    </tr>\n",
       "    <tr>\n",
       "      <th>355</th>\n",
       "      <td>santiago del estero</td>\n",
       "      <td>-27.7951</td>\n",
       "      <td>-64.2615</td>\n",
       "      <td>22.23</td>\n",
       "      <td>17</td>\n",
       "      <td>0</td>\n",
       "      <td>2.91</td>\n",
       "      <td>AR</td>\n",
       "      <td>1663021377</td>\n",
       "    </tr>\n",
       "    <tr>\n",
       "      <th>525</th>\n",
       "      <td>alamosa</td>\n",
       "      <td>37.4695</td>\n",
       "      <td>-105.8700</td>\n",
       "      <td>26.99</td>\n",
       "      <td>12</td>\n",
       "      <td>0</td>\n",
       "      <td>2.57</td>\n",
       "      <td>US</td>\n",
       "      <td>1663021438</td>\n",
       "    </tr>\n",
       "    <tr>\n",
       "      <th>544</th>\n",
       "      <td>port said</td>\n",
       "      <td>31.2565</td>\n",
       "      <td>32.2841</td>\n",
       "      <td>26.97</td>\n",
       "      <td>72</td>\n",
       "      <td>0</td>\n",
       "      <td>3.03</td>\n",
       "      <td>EG</td>\n",
       "      <td>1663021446</td>\n",
       "    </tr>\n",
       "  </tbody>\n",
       "</table>\n",
       "</div>"
      ],
      "text/plain": [
       "                    City      Lat       Lng  Max Temp  Humidity  Cloudiness  \\\n",
       "151                  gat  31.6100   34.7642     25.38       100           0   \n",
       "254              tucuman -26.8241  -65.2226     22.00        17           0   \n",
       "346                gaeta  41.2183   13.5628     21.52        65           0   \n",
       "355  santiago del estero -27.7951  -64.2615     22.23        17           0   \n",
       "525              alamosa  37.4695 -105.8700     26.99        12           0   \n",
       "544            port said  31.2565   32.2841     26.97        72           0   \n",
       "\n",
       "     Wind Speed Country        Date  \n",
       "151        0.35      IL  1663021310  \n",
       "254        2.57      AR  1663021343  \n",
       "346        2.47      IT  1663021374  \n",
       "355        2.91      AR  1663021377  \n",
       "525        2.57      US  1663021438  \n",
       "544        3.03      EG  1663021446  "
      ]
     },
     "execution_count": 191,
     "metadata": {},
     "output_type": "execute_result"
    }
   ],
   "source": [
    "vacation_clean_df.head(6)"
   ]
  },
  {
   "cell_type": "code",
   "execution_count": 192,
   "metadata": {},
   "outputs": [],
   "source": [
    "vacation_clean_df.reset_index(drop=True, inplace=True)\n"
   ]
  },
  {
   "cell_type": "code",
   "execution_count": 193,
   "metadata": {},
   "outputs": [
    {
     "data": {
      "text/plain": [
       "City           object\n",
       "Lat           float64\n",
       "Lng           float64\n",
       "Max Temp      float64\n",
       "Humidity        int64\n",
       "Cloudiness      int64\n",
       "Wind Speed    float64\n",
       "Country        object\n",
       "Date            int64\n",
       "dtype: object"
      ]
     },
     "execution_count": 193,
     "metadata": {},
     "output_type": "execute_result"
    }
   ],
   "source": [
    "vacation_clean_df.dtypes"
   ]
  },
  {
   "cell_type": "markdown",
   "metadata": {},
   "source": [
    "### Hotel Map\n",
    "* Store into variable named `hotel_df`.\n",
    "* Add a \"Hotel Name\" column to the DataFrame.\n",
    "* Set parameters to search for hotels with 5000 meters.\n",
    "* Hit the Google Places API for each city's coordinates.\n",
    "* Store the first Hotel result into the DataFrame.\n",
    "* Plot markers on top of the heatmap."
   ]
  },
  {
   "cell_type": "code",
   "execution_count": 194,
   "metadata": {},
   "outputs": [
    {
     "name": "stderr",
     "output_type": "stream",
     "text": [
      "C:\\Users\\ashle\\AppData\\Local\\Temp\\ipykernel_17664\\1424943650.py:1: SettingWithCopyWarning: \n",
      "A value is trying to be set on a copy of a slice from a DataFrame.\n",
      "Try using .loc[row_indexer,col_indexer] = value instead\n",
      "\n",
      "See the caveats in the documentation: https://pandas.pydata.org/pandas-docs/stable/user_guide/indexing.html#returning-a-view-versus-a-copy\n",
      "  vacation_clean_df[\"Hotel Name\"] =\"\"\n"
     ]
    },
    {
     "data": {
      "text/html": [
       "<div>\n",
       "<style scoped>\n",
       "    .dataframe tbody tr th:only-of-type {\n",
       "        vertical-align: middle;\n",
       "    }\n",
       "\n",
       "    .dataframe tbody tr th {\n",
       "        vertical-align: top;\n",
       "    }\n",
       "\n",
       "    .dataframe thead th {\n",
       "        text-align: right;\n",
       "    }\n",
       "</style>\n",
       "<table border=\"1\" class=\"dataframe\">\n",
       "  <thead>\n",
       "    <tr style=\"text-align: right;\">\n",
       "      <th></th>\n",
       "      <th>City</th>\n",
       "      <th>Lat</th>\n",
       "      <th>Lng</th>\n",
       "      <th>Max Temp</th>\n",
       "      <th>Humidity</th>\n",
       "      <th>Cloudiness</th>\n",
       "      <th>Wind Speed</th>\n",
       "      <th>Country</th>\n",
       "      <th>Date</th>\n",
       "      <th>Hotel Name</th>\n",
       "    </tr>\n",
       "  </thead>\n",
       "  <tbody>\n",
       "    <tr>\n",
       "      <th>0</th>\n",
       "      <td>gat</td>\n",
       "      <td>31.6100</td>\n",
       "      <td>34.7642</td>\n",
       "      <td>25.38</td>\n",
       "      <td>100</td>\n",
       "      <td>0</td>\n",
       "      <td>0.35</td>\n",
       "      <td>IL</td>\n",
       "      <td>1663021310</td>\n",
       "      <td></td>\n",
       "    </tr>\n",
       "    <tr>\n",
       "      <th>1</th>\n",
       "      <td>tucuman</td>\n",
       "      <td>-26.8241</td>\n",
       "      <td>-65.2226</td>\n",
       "      <td>22.00</td>\n",
       "      <td>17</td>\n",
       "      <td>0</td>\n",
       "      <td>2.57</td>\n",
       "      <td>AR</td>\n",
       "      <td>1663021343</td>\n",
       "      <td></td>\n",
       "    </tr>\n",
       "    <tr>\n",
       "      <th>2</th>\n",
       "      <td>gaeta</td>\n",
       "      <td>41.2183</td>\n",
       "      <td>13.5628</td>\n",
       "      <td>21.52</td>\n",
       "      <td>65</td>\n",
       "      <td>0</td>\n",
       "      <td>2.47</td>\n",
       "      <td>IT</td>\n",
       "      <td>1663021374</td>\n",
       "      <td></td>\n",
       "    </tr>\n",
       "    <tr>\n",
       "      <th>3</th>\n",
       "      <td>santiago del estero</td>\n",
       "      <td>-27.7951</td>\n",
       "      <td>-64.2615</td>\n",
       "      <td>22.23</td>\n",
       "      <td>17</td>\n",
       "      <td>0</td>\n",
       "      <td>2.91</td>\n",
       "      <td>AR</td>\n",
       "      <td>1663021377</td>\n",
       "      <td></td>\n",
       "    </tr>\n",
       "    <tr>\n",
       "      <th>4</th>\n",
       "      <td>alamosa</td>\n",
       "      <td>37.4695</td>\n",
       "      <td>-105.8700</td>\n",
       "      <td>26.99</td>\n",
       "      <td>12</td>\n",
       "      <td>0</td>\n",
       "      <td>2.57</td>\n",
       "      <td>US</td>\n",
       "      <td>1663021438</td>\n",
       "      <td></td>\n",
       "    </tr>\n",
       "    <tr>\n",
       "      <th>5</th>\n",
       "      <td>port said</td>\n",
       "      <td>31.2565</td>\n",
       "      <td>32.2841</td>\n",
       "      <td>26.97</td>\n",
       "      <td>72</td>\n",
       "      <td>0</td>\n",
       "      <td>3.03</td>\n",
       "      <td>EG</td>\n",
       "      <td>1663021446</td>\n",
       "      <td></td>\n",
       "    </tr>\n",
       "  </tbody>\n",
       "</table>\n",
       "</div>"
      ],
      "text/plain": [
       "                  City      Lat       Lng  Max Temp  Humidity  Cloudiness  \\\n",
       "0                  gat  31.6100   34.7642     25.38       100           0   \n",
       "1              tucuman -26.8241  -65.2226     22.00        17           0   \n",
       "2                gaeta  41.2183   13.5628     21.52        65           0   \n",
       "3  santiago del estero -27.7951  -64.2615     22.23        17           0   \n",
       "4              alamosa  37.4695 -105.8700     26.99        12           0   \n",
       "5            port said  31.2565   32.2841     26.97        72           0   \n",
       "\n",
       "   Wind Speed Country        Date Hotel Name  \n",
       "0        0.35      IL  1663021310             \n",
       "1        2.57      AR  1663021343             \n",
       "2        2.47      IT  1663021374             \n",
       "3        2.91      AR  1663021377             \n",
       "4        2.57      US  1663021438             \n",
       "5        3.03      EG  1663021446             "
      ]
     },
     "execution_count": 194,
     "metadata": {},
     "output_type": "execute_result"
    }
   ],
   "source": [
    "vacation_clean_df[\"Hotel Name\"] =\"\"\n",
    "vacation_clean_df\n",
    "    "
   ]
  },
  {
   "cell_type": "code",
   "execution_count": 195,
   "metadata": {},
   "outputs": [],
   "source": [
    "params = {\n",
    "    \"radius\": 5000,\n",
    "    \"types\": \"lodging\",\n",
    "    \"key\": g_key\n",
    "}"
   ]
  },
  {
   "cell_type": "code",
   "execution_count": 196,
   "metadata": {},
   "outputs": [
    {
     "data": {
      "text/html": [
       "<div>\n",
       "<style scoped>\n",
       "    .dataframe tbody tr th:only-of-type {\n",
       "        vertical-align: middle;\n",
       "    }\n",
       "\n",
       "    .dataframe tbody tr th {\n",
       "        vertical-align: top;\n",
       "    }\n",
       "\n",
       "    .dataframe thead th {\n",
       "        text-align: right;\n",
       "    }\n",
       "</style>\n",
       "<table border=\"1\" class=\"dataframe\">\n",
       "  <thead>\n",
       "    <tr style=\"text-align: right;\">\n",
       "      <th></th>\n",
       "      <th>City</th>\n",
       "      <th>Lat</th>\n",
       "      <th>Lng</th>\n",
       "      <th>Max Temp</th>\n",
       "      <th>Humidity</th>\n",
       "      <th>Cloudiness</th>\n",
       "      <th>Wind Speed</th>\n",
       "      <th>Country</th>\n",
       "      <th>Date</th>\n",
       "      <th>Hotel Name</th>\n",
       "    </tr>\n",
       "  </thead>\n",
       "  <tbody>\n",
       "    <tr>\n",
       "      <th>0</th>\n",
       "      <td>gat</td>\n",
       "      <td>31.6100</td>\n",
       "      <td>34.7642</td>\n",
       "      <td>25.38</td>\n",
       "      <td>100</td>\n",
       "      <td>0</td>\n",
       "      <td>0.35</td>\n",
       "      <td>IL</td>\n",
       "      <td>1663021310</td>\n",
       "      <td>OlusHome</td>\n",
       "    </tr>\n",
       "    <tr>\n",
       "      <th>1</th>\n",
       "      <td>tucuman</td>\n",
       "      <td>-26.8241</td>\n",
       "      <td>-65.2226</td>\n",
       "      <td>22.00</td>\n",
       "      <td>17</td>\n",
       "      <td>0</td>\n",
       "      <td>2.57</td>\n",
       "      <td>AR</td>\n",
       "      <td>1663021343</td>\n",
       "      <td>Dallas Hotel Tucuman</td>\n",
       "    </tr>\n",
       "    <tr>\n",
       "      <th>2</th>\n",
       "      <td>gaeta</td>\n",
       "      <td>41.2183</td>\n",
       "      <td>13.5628</td>\n",
       "      <td>21.52</td>\n",
       "      <td>65</td>\n",
       "      <td>0</td>\n",
       "      <td>2.47</td>\n",
       "      <td>IT</td>\n",
       "      <td>1663021374</td>\n",
       "      <td>Hotel Serapo</td>\n",
       "    </tr>\n",
       "    <tr>\n",
       "      <th>3</th>\n",
       "      <td>santiago del estero</td>\n",
       "      <td>-27.7951</td>\n",
       "      <td>-64.2615</td>\n",
       "      <td>22.23</td>\n",
       "      <td>17</td>\n",
       "      <td>0</td>\n",
       "      <td>2.91</td>\n",
       "      <td>AR</td>\n",
       "      <td>1663021377</td>\n",
       "      <td>Apartamentos Castelli 90</td>\n",
       "    </tr>\n",
       "    <tr>\n",
       "      <th>4</th>\n",
       "      <td>alamosa</td>\n",
       "      <td>37.4695</td>\n",
       "      <td>-105.8700</td>\n",
       "      <td>26.99</td>\n",
       "      <td>12</td>\n",
       "      <td>0</td>\n",
       "      <td>2.57</td>\n",
       "      <td>US</td>\n",
       "      <td>1663021438</td>\n",
       "      <td>Best Western Alamosa Inn</td>\n",
       "    </tr>\n",
       "    <tr>\n",
       "      <th>5</th>\n",
       "      <td>port said</td>\n",
       "      <td>31.2565</td>\n",
       "      <td>32.2841</td>\n",
       "      <td>26.97</td>\n",
       "      <td>72</td>\n",
       "      <td>0</td>\n",
       "      <td>3.03</td>\n",
       "      <td>EG</td>\n",
       "      <td>1663021446</td>\n",
       "      <td>Aracan Hotel</td>\n",
       "    </tr>\n",
       "  </tbody>\n",
       "</table>\n",
       "</div>"
      ],
      "text/plain": [
       "                  City      Lat       Lng  Max Temp  Humidity  Cloudiness  \\\n",
       "0                  gat  31.6100   34.7642     25.38       100           0   \n",
       "1              tucuman -26.8241  -65.2226     22.00        17           0   \n",
       "2                gaeta  41.2183   13.5628     21.52        65           0   \n",
       "3  santiago del estero -27.7951  -64.2615     22.23        17           0   \n",
       "4              alamosa  37.4695 -105.8700     26.99        12           0   \n",
       "5            port said  31.2565   32.2841     26.97        72           0   \n",
       "\n",
       "   Wind Speed Country        Date                Hotel Name  \n",
       "0        0.35      IL  1663021310                  OlusHome  \n",
       "1        2.57      AR  1663021343      Dallas Hotel Tucuman  \n",
       "2        2.47      IT  1663021374              Hotel Serapo  \n",
       "3        2.91      AR  1663021377  Apartamentos Castelli 90  \n",
       "4        2.57      US  1663021438  Best Western Alamosa Inn  \n",
       "5        3.03      EG  1663021446              Aracan Hotel  "
      ]
     },
     "execution_count": 196,
     "metadata": {},
     "output_type": "execute_result"
    }
   ],
   "source": [
    "\n",
    "# Use the lat/lng we recovered to identify hotels\n",
    "import json\n",
    "\n",
    "\n",
    "for index, row in vacation_clean_df.iterrows():\n",
    "    # get lat, lng from df\n",
    "    lat = row[\"Lat\"]\n",
    "    lng = row[\"Lng\"]\n",
    "    params[\"location\"]=f\"{lat},{lng}\"\n",
    "    base_url = \"https://maps.googleapis.com/maps/api/place/nearbysearch/json\"\n",
    "    # make request and print url and convert to json\n",
    "    name_hotel = requests.get(base_url, params=params).json()\n",
    "    #print(name_hotel)\n",
    "    #print(json.dumps(name_hotel, indent=4, sort_keys=True))\n",
    "    \n",
    "    try:\n",
    "        vacation_clean_df.loc[index,\"Hotel Name\"]=name_hotel[\"results\"][0][\"name\"]\n",
    "    except (KeyError, IndexError):\n",
    "        print(\"Missing field/result... skipping.\")\n",
    "vacation_clean_df    "
   ]
  },
  {
   "cell_type": "code",
   "execution_count": 197,
   "metadata": {},
   "outputs": [],
   "source": [
    "# NOTE: Do not change any of the code in this cell\n",
    "\n",
    "# Using the template add the hotel marks to the heatmap\n",
    "info_box_template = \"\"\"\n",
    "<dl>\n",
    "<dt>Name</dt><dd>{Hotel Name}</dd>\n",
    "<dt>City</dt><dd>{City}</dd>\n",
    "<dt>Country</dt><dd>{Country}</dd>\n",
    "</dl>\n",
    "\"\"\"\n",
    "# Store the DataFrame Row\n",
    "# NOTE: be sure to update with your DataFrame name\n",
    "hotel_info = [info_box_template.format(**row) for index, row in vacation_clean_df.iterrows()]\n",
    "locations = vacation_clean_df[[\"Lat\", \"Lng\"]]"
   ]
  },
  {
   "cell_type": "code",
   "execution_count": 198,
   "metadata": {},
   "outputs": [
    {
     "data": {
      "application/vnd.jupyter.widget-view+json": {
       "model_id": "b0183ac8b3e543bfa3713c0096ec49bb",
       "version_major": 2,
       "version_minor": 0
      },
      "text/plain": [
       "Figure(layout=FigureLayout(height='420px'))"
      ]
     },
     "metadata": {},
     "output_type": "display_data"
    }
   ],
   "source": [
    "# Add marker layer ontop of heat map\n",
    "marker_layer = gmaps.marker_layer(locations, info_box_content=hotel_info)\n",
    "\n",
    "fig.add_layer(marker_layer)\n",
    "\n",
    "\n",
    "# Display figure\n",
    "fig"
   ]
  },
  {
   "cell_type": "code",
   "execution_count": null,
   "metadata": {},
   "outputs": [],
   "source": []
  }
 ],
 "metadata": {
  "kernelspec": {
   "display_name": "Python 3.9.12 ('base')",
   "language": "python",
   "name": "python3"
  },
  "language_info": {
   "codemirror_mode": {
    "name": "ipython",
    "version": 3
   },
   "file_extension": ".py",
   "mimetype": "text/x-python",
   "name": "python",
   "nbconvert_exporter": "python",
   "pygments_lexer": "ipython3",
   "version": "3.9.12"
  },
  "latex_envs": {
   "LaTeX_envs_menu_present": true,
   "autoclose": false,
   "autocomplete": true,
   "bibliofile": "biblio.bib",
   "cite_by": "apalike",
   "current_citInitial": 1,
   "eqLabelWithNumbers": true,
   "eqNumInitial": 1,
   "hotkeys": {
    "equation": "Ctrl-E",
    "itemize": "Ctrl-I"
   },
   "labels_anchors": false,
   "latex_user_defs": false,
   "report_style_numbering": false,
   "user_envs_cfg": false
  },
  "vscode": {
   "interpreter": {
    "hash": "7b236e09f31850ca43e109ba58a242ff5e7612cb69f00e0b1b4cdc321a45ccb4"
   }
  }
 },
 "nbformat": 4,
 "nbformat_minor": 4
}
